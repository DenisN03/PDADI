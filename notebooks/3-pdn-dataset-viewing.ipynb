{
 "cells": [
  {
   "cell_type": "markdown",
   "metadata": {
    "id": "XR2ADm7CEr_0"
   },
   "source": [
    "# Просмотр датасета\n",
    "Данный ноутбук предназначен для просмотра подготовленного набора данных."
   ]
  },
  {
   "cell_type": "code",
   "execution_count": 1,
   "metadata": {
    "id": "zUzr1zsaEr_0"
   },
   "outputs": [
    {
     "name": "stdout",
     "output_type": "stream",
     "text": [
      "Migrating database to v0.16.5\n"
     ]
    }
   ],
   "source": [
    "import os\n",
    "import fiftyone as fo\n",
    "import fiftyone.zoo as foz\n",
    "from fiftyone.utils import yolo"
   ]
  },
  {
   "cell_type": "code",
   "execution_count": 5,
   "metadata": {},
   "outputs": [],
   "source": [
    "name = \"dataset_v7\"\n",
    "dataset_dir = \"/app/data/train/v7/\"\n",
    "classes = ['person']"
   ]
  },
  {
   "cell_type": "code",
   "execution_count": 7,
   "metadata": {},
   "outputs": [],
   "source": [
    "# Delete dataset\n",
    "dataset = fo.load_dataset(name)\n",
    "dataset.delete()"
   ]
  },
  {
   "cell_type": "code",
   "execution_count": 8,
   "metadata": {},
   "outputs": [
    {
     "name": "stdout",
     "output_type": "stream",
     "text": []
    },
    {
     "name": "stdout",
     "output_type": "stream",
     "text": [
      " 100% |█████████████████| 136/136 [137.0ms elapsed, 0s remaining, 993.0 samples/s]   \n",
      " 100% |███████████████████| 35/35 [37.7ms elapsed, 0s remaining, 929.2 samples/s]    \n",
      "Name:        dataset_v7\n",
      "Media type:  image\n",
      "Num samples: 171\n",
      "Persistent:  False\n",
      "Tags:        []\n",
      "Sample fields:\n",
      "    id:           fiftyone.core.fields.ObjectIdField\n",
      "    filepath:     fiftyone.core.fields.StringField\n",
      "    tags:         fiftyone.core.fields.ListField(fiftyone.core.fields.StringField)\n",
      "    metadata:     fiftyone.core.fields.EmbeddedDocumentField(fiftyone.core.metadata.ImageMetadata)\n",
      "    ground_truth: fiftyone.core.fields.EmbeddedDocumentField(fiftyone.core.labels.Detections)\n",
      "[<Sample: {\n",
      "    'id': '636f39750a36e9bd16f3aa26',\n",
      "    'media_type': 'image',\n",
      "    'filepath': '/app/data/train/v7/images/train/3444_0_1_B.jpg',\n",
      "    'tags': BaseList(['train']),\n",
      "    'metadata': None,\n",
      "    'ground_truth': <Detections: {\n",
      "        'detections': BaseList([\n",
      "            <Detection: {\n",
      "                'id': '636f39750a36e9bd16f3aa25',\n",
      "                'attributes': BaseDict({}),\n",
      "                'tags': BaseList([]),\n",
      "                'label': 'person',\n",
      "                'bounding_box': BaseList([\n",
      "                    0.6279239766081871,\n",
      "                    0.2952302631578947,\n",
      "                    0.04678362573099415,\n",
      "                    0.05263157894736842,\n",
      "                ]),\n",
      "                'mask': None,\n",
      "                'confidence': None,\n",
      "                'index': None,\n",
      "            }>,\n",
      "        ]),\n",
      "    }>,\n",
      "}>, <Sample: {\n",
      "    'id': '636f39750a36e9bd16f3aa2a',\n",
      "    'media_type': 'image',\n",
      "    'filepath': '/app/data/train/v7/images/train/3653_2_1_C.jpg',\n",
      "    'tags': BaseList(['train']),\n",
      "    'metadata': None,\n",
      "    'ground_truth': <Detections: {\n",
      "        'detections': BaseList([\n",
      "            <Detection: {\n",
      "                'id': '636f39750a36e9bd16f3aa28',\n",
      "                'attributes': BaseDict({}),\n",
      "                'tags': BaseList([]),\n",
      "                'label': 'person',\n",
      "                'bounding_box': BaseList([\n",
      "                    0.4605263157894737,\n",
      "                    0.007797270955165692,\n",
      "                    0.05482456140350877,\n",
      "                    0.07309941520467836,\n",
      "                ]),\n",
      "                'mask': None,\n",
      "                'confidence': None,\n",
      "                'index': None,\n",
      "            }>,\n",
      "        ]),\n",
      "    }>,\n",
      "}>, <Sample: {\n",
      "    'id': '636f39750a36e9bd16f3aa2b',\n",
      "    'media_type': 'image',\n",
      "    'filepath': '/app/data/train/v7/images/train/3690_1_2_B.jpg',\n",
      "    'tags': BaseList(['train']),\n",
      "    'metadata': None,\n",
      "    'ground_truth': <Detections: {\n",
      "        'detections': BaseList([\n",
      "            <Detection: {\n",
      "                'id': '636f39750a36e9bd16f3aa29',\n",
      "                'attributes': BaseDict({}),\n",
      "                'tags': BaseList([]),\n",
      "                'label': 'person',\n",
      "                'bounding_box': BaseList([\n",
      "                    0.09722222222222224,\n",
      "                    0.6062378167641326,\n",
      "                    0.06578947368421052,\n",
      "                    0.08771929824561403,\n",
      "                ]),\n",
      "                'mask': None,\n",
      "                'confidence': None,\n",
      "                'index': None,\n",
      "            }>,\n",
      "        ]),\n",
      "    }>,\n",
      "}>]\n"
     ]
    }
   ],
   "source": [
    "# The splits to load\n",
    "splits = [\"train\", \"val\"]\n",
    "\n",
    "# Load the dataset, using tags to mark the samples in each split\n",
    "dataset = fo.Dataset(name)\n",
    "for split in splits:\n",
    "    dataset.add_dir(\n",
    "        dataset_dir=dataset_dir,\n",
    "        dataset_type=fo.types.YOLOv5Dataset,\n",
    "        split=split,\n",
    "        tags=split,\n",
    ")\n",
    "\n",
    "# View summary info about the dataset\n",
    "print(dataset)\n",
    "\n",
    "# Print the first few samples in the dataset\n",
    "print(dataset.head())"
   ]
  },
  {
   "cell_type": "code",
   "execution_count": 9,
   "metadata": {},
   "outputs": [],
   "source": [
    "# Если датасет уже создан, то его необходимо загрузить\n",
    "dataset = fo.load_dataset(name)"
   ]
  },
  {
   "cell_type": "code",
   "execution_count": 10,
   "metadata": {},
   "outputs": [
    {
     "data": {
      "text/html": [
       "\n",
       "        <iframe\n",
       "            width=\"100%\"\n",
       "            height=\"800\"\n",
       "            src=\"http://localhost:5151/?context=ipython&subscription=1588ffc2-a67f-45e3-b6da-dfba5f51e8fd\"\n",
       "            frameborder=\"0\"\n",
       "            allowfullscreen\n",
       "            \n",
       "        ></iframe>\n",
       "        "
      ],
      "text/plain": [
       "<IPython.lib.display.IFrame at 0x7ff87a696df0>"
      ]
     },
     "metadata": {},
     "output_type": "display_data"
    }
   ],
   "source": [
    "# Отображение датасета\n",
    "session = fo.launch_app(dataset)"
   ]
  },
  {
   "cell_type": "code",
   "execution_count": null,
   "metadata": {},
   "outputs": [],
   "source": []
  }
 ],
 "metadata": {
  "colab": {
   "name": "image_deduplication.ipynb",
   "provenance": []
  },
  "kernelspec": {
   "display_name": "Python 3 (ipykernel)",
   "language": "python",
   "name": "python3"
  },
  "language_info": {
   "codemirror_mode": {
    "name": "ipython",
    "version": 3
   },
   "file_extension": ".py",
   "mimetype": "text/x-python",
   "name": "python",
   "nbconvert_exporter": "python",
   "pygments_lexer": "ipython3",
   "version": "3.8.13"
  }
 },
 "nbformat": 4,
 "nbformat_minor": 4
}
