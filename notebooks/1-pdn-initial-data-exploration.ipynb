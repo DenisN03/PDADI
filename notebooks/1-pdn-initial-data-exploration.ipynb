{
 "cells": [
  {
   "cell_type": "markdown",
   "id": "afd9be13-dd1f-4cf1-9756-1f9131d8f9e2",
   "metadata": {},
   "source": [
    "# Анализ и подготовка данных\n",
    "В данном ноутбуке производится анализ набора данных и его подготовка для дальнейшего использования."
   ]
  },
  {
   "cell_type": "markdown",
   "id": "35b379bd-fe1f-4455-ab86-06fc3bb31372",
   "metadata": {},
   "source": [
    "## Анализ данных"
   ]
  },
  {
   "cell_type": "code",
   "execution_count": 8,
   "id": "dc9c67d6-2308-479e-9cec-0ca4f6cf5c0c",
   "metadata": {},
   "outputs": [],
   "source": [
    "! unzip -qq /app/data/raw/train_dataset_train.zip -d /app/data/raw/train/\n",
    "! unzip -qq /app/data/raw/test_dataset_test.zip -d /app/data/raw/test/\n",
    "! chmod -R 777 /app/data/raw/"
   ]
  },
  {
   "cell_type": "code",
   "execution_count": 20,
   "id": "522d6eb0-b259-4637-9941-ce92044c5f94",
   "metadata": {},
   "outputs": [],
   "source": [
    "import pandas as pd"
   ]
  },
  {
   "cell_type": "code",
   "execution_count": 21,
   "id": "13cd85ad-7b94-4f76-800b-335ad8f2e108",
   "metadata": {},
   "outputs": [
    {
     "data": {
      "text/html": [
       "<div>\n",
       "<style scoped>\n",
       "    .dataframe tbody tr th:only-of-type {\n",
       "        vertical-align: middle;\n",
       "    }\n",
       "\n",
       "    .dataframe tbody tr th {\n",
       "        vertical-align: top;\n",
       "    }\n",
       "\n",
       "    .dataframe thead th {\n",
       "        text-align: right;\n",
       "    }\n",
       "</style>\n",
       "<table border=\"1\" class=\"dataframe\">\n",
       "  <thead>\n",
       "    <tr style=\"text-align: right;\">\n",
       "      <th></th>\n",
       "      <th>ID_img</th>\n",
       "      <th>count_region</th>\n",
       "      <th>region_shape</th>\n",
       "    </tr>\n",
       "  </thead>\n",
       "  <tbody>\n",
       "    <tr>\n",
       "      <th>0</th>\n",
       "      <td>3436.JPG</td>\n",
       "      <td>0.0</td>\n",
       "      <td>0.0</td>\n",
       "    </tr>\n",
       "    <tr>\n",
       "      <th>1</th>\n",
       "      <td>3437.JPG</td>\n",
       "      <td>0.0</td>\n",
       "      <td>0.0</td>\n",
       "    </tr>\n",
       "    <tr>\n",
       "      <th>2</th>\n",
       "      <td>3438.JPG</td>\n",
       "      <td>0.0</td>\n",
       "      <td>0.0</td>\n",
       "    </tr>\n",
       "    <tr>\n",
       "      <th>3</th>\n",
       "      <td>3439.JPG</td>\n",
       "      <td>0.0</td>\n",
       "      <td>0.0</td>\n",
       "    </tr>\n",
       "    <tr>\n",
       "      <th>4</th>\n",
       "      <td>3440.JPG</td>\n",
       "      <td>0.0</td>\n",
       "      <td>0.0</td>\n",
       "    </tr>\n",
       "  </tbody>\n",
       "</table>\n",
       "</div>"
      ],
      "text/plain": [
       "     ID_img  count_region region_shape\n",
       "0  3436.JPG           0.0          0.0\n",
       "1  3437.JPG           0.0          0.0\n",
       "2  3438.JPG           0.0          0.0\n",
       "3  3439.JPG           0.0          0.0\n",
       "4  3440.JPG           0.0          0.0"
      ]
     },
     "execution_count": 21,
     "metadata": {},
     "output_type": "execute_result"
    }
   ],
   "source": [
    "df = pd.read_csv(\"/app/data/raw/train/train.csv\")\n",
    "df.head()"
   ]
  },
  {
   "cell_type": "code",
   "execution_count": 22,
   "id": "a5fcfa4c-4d5a-4673-9a91-bf78c8c2fb8b",
   "metadata": {},
   "outputs": [
    {
     "name": "stdout",
     "output_type": "stream",
     "text": [
      "Общее количество данных для обучения: 5162\n"
     ]
    }
   ],
   "source": [
    "print(f'Общее количество данных для обучения: {len(df)}')"
   ]
  },
  {
   "cell_type": "code",
   "execution_count": 30,
   "id": "86682d20-231d-4282-ad9e-d591ab37e83e",
   "metadata": {},
   "outputs": [
    {
     "data": {
      "text/html": [
       "<div>\n",
       "<style scoped>\n",
       "    .dataframe tbody tr th:only-of-type {\n",
       "        vertical-align: middle;\n",
       "    }\n",
       "\n",
       "    .dataframe tbody tr th {\n",
       "        vertical-align: top;\n",
       "    }\n",
       "\n",
       "    .dataframe thead th {\n",
       "        text-align: right;\n",
       "    }\n",
       "</style>\n",
       "<table border=\"1\" class=\"dataframe\">\n",
       "  <thead>\n",
       "    <tr style=\"text-align: right;\">\n",
       "      <th></th>\n",
       "      <th>ID_img</th>\n",
       "      <th>count_region</th>\n",
       "      <th>region_shape</th>\n",
       "    </tr>\n",
       "  </thead>\n",
       "  <tbody>\n",
       "    <tr>\n",
       "      <th>8</th>\n",
       "      <td>3444.jpg</td>\n",
       "      <td>1.0</td>\n",
       "      <td>['{\"cx\":2259,\"cy\":391,\"r\":64}']</td>\n",
       "    </tr>\n",
       "    <tr>\n",
       "      <th>217</th>\n",
       "      <td>3653.JPG</td>\n",
       "      <td>1.0</td>\n",
       "      <td>['{\"cx\":2719,\"cy\":2097,\"r\":75}']</td>\n",
       "    </tr>\n",
       "    <tr>\n",
       "      <th>254</th>\n",
       "      <td>3690.JPG</td>\n",
       "      <td>1.0</td>\n",
       "      <td>['{\"cx\":2914,\"cy\":1693,\"r\":90}']</td>\n",
       "    </tr>\n",
       "    <tr>\n",
       "      <th>399</th>\n",
       "      <td>3835.JPG</td>\n",
       "      <td>2.0</td>\n",
       "      <td>['{\"cx\":2549,\"cy\":2329,\"r\":80}', '{\"cx\":2437,\"...</td>\n",
       "    </tr>\n",
       "    <tr>\n",
       "      <th>511</th>\n",
       "      <td>3947.JPG</td>\n",
       "      <td>1.0</td>\n",
       "      <td>['{\"cx\":3130,\"cy\":1370,\"r\":134}']</td>\n",
       "    </tr>\n",
       "  </tbody>\n",
       "</table>\n",
       "</div>"
      ],
      "text/plain": [
       "       ID_img  count_region                                       region_shape\n",
       "8    3444.jpg           1.0                    ['{\"cx\":2259,\"cy\":391,\"r\":64}']\n",
       "217  3653.JPG           1.0                   ['{\"cx\":2719,\"cy\":2097,\"r\":75}']\n",
       "254  3690.JPG           1.0                   ['{\"cx\":2914,\"cy\":1693,\"r\":90}']\n",
       "399  3835.JPG           2.0  ['{\"cx\":2549,\"cy\":2329,\"r\":80}', '{\"cx\":2437,\"...\n",
       "511  3947.JPG           1.0                  ['{\"cx\":3130,\"cy\":1370,\"r\":134}']"
      ]
     },
     "execution_count": 30,
     "metadata": {},
     "output_type": "execute_result"
    }
   ],
   "source": [
    "dfp = df[df['count_region'] != 0]\n",
    "dfp.head()"
   ]
  },
  {
   "cell_type": "code",
   "execution_count": 31,
   "id": "91b25940-de69-4ca8-aeb8-068496651669",
   "metadata": {},
   "outputs": [
    {
     "name": "stdout",
     "output_type": "stream",
     "text": [
      "Количество данных с разметкой: 58\n"
     ]
    }
   ],
   "source": [
    "print(f'Количество данных с разметкой: {len(dfp)}')"
   ]
  },
  {
   "cell_type": "code",
   "execution_count": 24,
   "id": "8b390e57-f72a-41a7-b2d5-e6b7c6807883",
   "metadata": {},
   "outputs": [
    {
     "name": "stdout",
     "output_type": "stream",
     "text": [
      "Количество данных без разметки: 5104\n"
     ]
    }
   ],
   "source": [
    "dfb = df[df['count_region'] == 0]\n",
    "print(f'Количество данных без разметки: {len(dfb)}')"
   ]
  },
  {
   "cell_type": "markdown",
   "id": "5347b34c-32bd-4753-99e4-b8a11d922e1c",
   "metadata": {},
   "source": [
    "### Формирование набора данных на которых есть люди"
   ]
  },
  {
   "cell_type": "code",
   "execution_count": 25,
   "id": "c4bcc35a-127b-4781-9f95-b8559902e63d",
   "metadata": {},
   "outputs": [
    {
     "name": "stderr",
     "output_type": "stream",
     "text": [
      "100%|███████████████████████████████████████████████████████████████████████████████████████████████████████████████████████████████████████████████████████████████████████████████████████████████████████████████████████████████████████████████████████████████████████████| 58/58 [00:00<00:00, 71.96it/s]\n"
     ]
    }
   ],
   "source": [
    "from pathlib import Path\n",
    "import shutil\n",
    "import tqdm\n",
    "\n",
    "all_img_path = \"/app/data/raw/train/train/\"\n",
    "people_img_path = \"/app/data/interim_v3/images/train/\"\n",
    "\n",
    "Path(people_img_path).mkdir(parents=True, exist_ok=True)\n",
    "\n",
    "for img in tqdm.tqdm(dfp[\"ID_img\"]):\n",
    "    # print(img)\n",
    "    shutil.copyfile(all_img_path+img, people_img_path+img)"
   ]
  },
  {
   "cell_type": "markdown",
   "id": "66b7a1cd-1852-4cd4-90e1-140862b3fb3c",
   "metadata": {},
   "source": [
    "### Преобразование разметки в формат YOLO"
   ]
  },
  {
   "cell_type": "code",
   "execution_count": 26,
   "id": "a1ecded5-0881-410c-9c72-d1b241a30355",
   "metadata": {},
   "outputs": [
    {
     "name": "stderr",
     "output_type": "stream",
     "text": [
      "58it [00:00, 483.51it/s]\n"
     ]
    }
   ],
   "source": [
    "import json\n",
    "import magic\n",
    "import re\n",
    "\n",
    "import sys\n",
    "sys.path.append('/app/src')\n",
    "from markup_convertors import task2bb, bb2yolo\n",
    "\n",
    "label = \"0 \"\n",
    "people_label_path = \"/app/data/interim_v3/labels/train/\"\n",
    "\n",
    "Path(people_label_path).mkdir(parents=True, exist_ok=True)\n",
    "\n",
    "for index, row in tqdm.tqdm(dfp.iterrows()):\n",
    "    count = row[\"count_region\"]\n",
    "    markup = row[\"region_shape\"].replace(\"[\",\"\").replace(\"]\",\"\").replace(\"'\",\"\").split(\", \")\n",
    "    t = magic.from_file(people_img_path + row[\"ID_img\"])\n",
    "    wh = t.split(\" \")[-3].replace(\",\",\"\").split(\"x\")\n",
    "    image_w = int(wh[0])\n",
    "    image_h = int(wh[1])\n",
    "    file = open(people_label_path + row[\"ID_img\"].replace(\"JPG\",\"txt\").replace(\"jpg\",\"txt\"), \"w\")\n",
    "    for mkup in markup:\n",
    "        mk = json.loads(mkup)\n",
    "        bbox = task2bb(mk[\"cx\"], mk[\"cy\"], mk[\"r\"]/2)\n",
    "        yolo_lbl = bb2yolo(bbox, image_w, image_h)\n",
    "        yolo_lbl = [str(x) for x in yolo_lbl]\n",
    "        file.write(label + \" \".join(yolo_lbl) + \"\\n\")\n",
    "    file.close()\n"
   ]
  },
  {
   "cell_type": "code",
   "execution_count": 41,
   "id": "61335eb7-9599-4602-9a01-102a0740f8cd",
   "metadata": {},
   "outputs": [],
   "source": [
    "dataset_path = \"/app/data/interim_v3/dataset.yaml\"\n",
    "info = \"\"\"train: ./images/train/\n",
    "\n",
    "# number of classes\n",
    "nc: 1\n",
    "\n",
    "# class names\n",
    "names: ['person']\n",
    "\"\"\"\n",
    "\n",
    "with open(dataset_path, \"w\") as f:\n",
    "    f.write(info)"
   ]
  },
  {
   "cell_type": "code",
   "execution_count": 42,
   "id": "df13aa16-d265-4112-b5dc-d72640ca30c9",
   "metadata": {},
   "outputs": [],
   "source": [
    "! chmod -R 777 /app/data/interim_v3/"
   ]
  },
  {
   "cell_type": "code",
   "execution_count": 14,
   "id": "f91870a9-8a86-44b0-8ed2-d50b46b23dda",
   "metadata": {},
   "outputs": [
    {
     "name": "stderr",
     "output_type": "stream",
     "text": [
      "58it [00:00, 479.69it/s]\n"
     ]
    }
   ],
   "source": [
    "# Check resolution\n",
    "\n",
    "people_img_path = \"/app/data/interim_v3/images/train/\"\n",
    "\n",
    "people_h = []\n",
    "people_w = []\n",
    "\n",
    "for _, row in tqdm.tqdm(dfp.iterrows()):\n",
    "    t = magic.from_file(people_img_path + row[\"ID_img\"])\n",
    "    wh = t.split(\" \")[-3].replace(\",\",\"\").split(\"x\")\n",
    "    image_w = int(wh[0])\n",
    "    image_h = int(wh[1])\n",
    "    people_h.append(image_h)\n",
    "    people_w.append(image_w)"
   ]
  },
  {
   "cell_type": "code",
   "execution_count": 15,
   "id": "462218e7-62b7-4530-8290-c8c75cef5018",
   "metadata": {},
   "outputs": [
    {
     "data": {
      "text/plain": [
       "(array([[ 2.,  0.,  0.,  0.,  0.,  0.,  0.,  0.,  0.,  0.],\n",
       "        [ 0.,  0.,  0.,  0.,  0.,  0.,  0.,  0.,  0., 51.],\n",
       "        [ 0.,  0.,  0.,  0.,  0.,  0.,  0.,  0.,  0.,  0.],\n",
       "        [ 0.,  0.,  0.,  0.,  0.,  0.,  0.,  0.,  0.,  0.],\n",
       "        [ 0.,  0.,  0.,  0.,  0.,  0.,  0.,  0.,  0.,  0.],\n",
       "        [ 0.,  0.,  0.,  0.,  0.,  0.,  0.,  0.,  0.,  0.],\n",
       "        [ 0.,  0.,  0.,  0.,  0.,  0.,  0.,  0.,  0.,  0.],\n",
       "        [ 0.,  0.,  0.,  0.,  0.,  0.,  0.,  0.,  0.,  0.],\n",
       "        [ 0.,  0.,  0.,  0.,  0.,  0.,  0.,  0.,  0.,  0.],\n",
       "        [ 0.,  0.,  0.,  0.,  0.,  0.,  0.,  0.,  0.,  5.]]),\n",
       " array([3000. , 3064.8, 3129.6, 3194.4, 3259.2, 3324. , 3388.8, 3453.6,\n",
       "        3518.4, 3583.2, 3648. ]),\n",
       " array([4000. , 4147.2, 4294.4, 4441.6, 4588.8, 4736. , 4883.2, 5030.4,\n",
       "        5177.6, 5324.8, 5472. ]),\n",
       " <matplotlib.collections.QuadMesh at 0x7f5374901850>)"
      ]
     },
     "execution_count": 15,
     "metadata": {},
     "output_type": "execute_result"
    },
    {
     "data": {
      "image/png": "[encoded data removed]",
      "text/plain": [
       "<Figure size 640x480 with 1 Axes>"
      ]
     },
     "metadata": {},
     "output_type": "display_data"
    }
   ],
   "source": [
    "import matplotlib.pyplot as plt\n",
    "import numpy as np\n",
    "\n",
    "people_h = np.array(people_h)\n",
    "people_w = np.array(people_w)\n",
    "\n",
    "# print(people_h.stats())\n",
    "\n",
    "# plt.histogramm2d(people_h, density=True, bins=30)\n",
    "plt.hist2d(people_h, people_w, bins=10)"
   ]
  },
  {
   "cell_type": "code",
   "execution_count": 17,
   "id": "b16c2f34-959f-4954-9f56-52e1e78e3432",
   "metadata": {},
   "outputs": [
    {
     "name": "stderr",
     "output_type": "stream",
     "text": [
      "5104it [00:07, 657.36it/s]\n"
     ]
    }
   ],
   "source": [
    "back_img_path = \"/app/data/raw/train/train/\"\n",
    "\n",
    "back_h = []\n",
    "back_w = []\n",
    "\n",
    "for _, row in tqdm.tqdm(dfb.iterrows()):\n",
    "    t = magic.from_file(back_img_path + row[\"ID_img\"])\n",
    "    wh = t.split(\" \")[-3].replace(\",\",\"\").split(\"x\")\n",
    "    image_w = int(wh[0])\n",
    "    image_h = int(wh[1])\n",
    "    back_h.append(image_h)\n",
    "    back_w.append(image_w)"
   ]
  },
  {
   "cell_type": "code",
   "execution_count": 18,
   "id": "502ca1ad-37ec-406a-b1cd-90e5042826f2",
   "metadata": {},
   "outputs": [
    {
     "data": {
      "image/png": "[encoded data removed]",
      "text/plain": [
       "<Figure size 640x480 with 1 Axes>"
      ]
     },
     "metadata": {},
     "output_type": "display_data"
    }
   ],
   "source": [
    "back_h = np.array(back_h)\n",
    "back_w = np.array(back_w)\n",
    "\n",
    "# print(people_h.stats())\n",
    "\n",
    "# plt.histogramm2d(people_h, density=True, bins=30)\n",
    "_ = plt.hist2d(back_h, back_w, bins=10, cmap=plt.cm.jet)"
   ]
  },
  {
   "cell_type": "code",
   "execution_count": 19,
   "id": "6e79ddf6-4176-407b-9a94-ed4859a46f37",
   "metadata": {},
   "outputs": [
    {
     "name": "stdout",
     "output_type": "stream",
     "text": [
      "{576, 768, 3648, 3078, 683}\n",
      "{1024, 5472}\n"
     ]
    }
   ],
   "source": [
    "print(set(back_h))\n",
    "print(set(back_w))"
   ]
  },
  {
   "cell_type": "code",
   "execution_count": null,
   "id": "af729f2a-5557-4f6a-93da-b8241776b7d1",
   "metadata": {},
   "outputs": [],
   "source": []
  }
 ],
 "metadata": {
  "kernelspec": {
   "display_name": "Python 3 (ipykernel)",
   "language": "python",
   "name": "python3"
  },
  "language_info": {
   "codemirror_mode": {
    "name": "ipython",
    "version": 3
   },
   "file_extension": ".py",
   "mimetype": "text/x-python",
   "name": "python",
   "nbconvert_exporter": "python",
   "pygments_lexer": "ipython3",
   "version": "3.8.13"
  }
 },
 "nbformat": 4,
 "nbformat_minor": 5
}
