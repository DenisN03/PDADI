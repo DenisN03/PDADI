{
 "cells": [
  {
   "cell_type": "markdown",
   "id": "e4822faa-dda5-4fc4-be84-b7ee2f0e4499",
   "metadata": {},
   "source": [
    "# Аугментация данных\n",
    "В данном ноутбуке выполняется аугментация данных для расширения датасета."
   ]
  },
  {
   "cell_type": "code",
   "execution_count": 1,
   "id": "9b8c01eb-1c00-4756-8a11-1dc88204f185",
   "metadata": {},
   "outputs": [],
   "source": [
    "%matplotlib inline\n",
    "import random\n",
    "\n",
    "import tqdm\n",
    "import glob\n",
    "import cv2\n",
    "from matplotlib import pyplot as plt\n",
    "from pathlib import Path\n",
    "\n",
    "import albumentations as A\n",
    "\n",
    "import os\n",
    "import sys\n",
    "sys.path.append('/app/src')\n",
    "from markup_convertors import yolo2bb, bb2yolo"
   ]
  },
  {
   "cell_type": "code",
   "execution_count": 14,
   "id": "f12fd85a-2a4f-4bbf-a634-28bc7b341af6",
   "metadata": {},
   "outputs": [],
   "source": [
    "def visualize_bbox(img, bbox, class_name, thickness=8):\n",
    "    \"\"\"Visualizes a single bounding box on the image\"\"\"\n",
    "    x_min, y_min, x_max, y_max = bbox\n",
    "    x_min, y_min, x_max, y_max = int(x_min), int(y_min), int(x_max), int(y_max)\n",
    "   \n",
    "    cv2.rectangle(img, (x_min, y_min), (x_max, y_max), color=(255, 0, 0), thickness=thickness)\n",
    "    \n",
    "    return img\n",
    "\n",
    "\n",
    "def visualize(image, bboxes, category_ids, category_id_to_name):\n",
    "    img = image.copy()\n",
    "    for bbox, category_id in zip(bboxes, category_ids):\n",
    "        class_name = category_id_to_name[category_id]\n",
    "        img = visualize_bbox(img, bbox, class_name)\n",
    "    plt.figure(figsize=(12, 12))\n",
    "    plt.axis('off')\n",
    "    plt.imshow(img)"
   ]
  },
  {
   "cell_type": "code",
   "execution_count": 24,
   "id": "fc86caba-eb85-416c-93bd-8ee8a70760ec",
   "metadata": {},
   "outputs": [
    {
     "name": "stderr",
     "output_type": "stream",
     "text": [
      "100%|██████████| 58/58 [00:28<00:00,  2.05it/s]\n"
     ]
    }
   ],
   "source": [
    "people_img_path = \"/app/data/interim/images/train/\"\n",
    "labels_img_path = \"/app/data/interim/labels/train/\"\n",
    "\n",
    "people_save_path = \"/app/data/augment_ssr/images/train/\"\n",
    "labels_save_path = \"/app/data/augment_ssr/labels/train/\"\n",
    "\n",
    "Path(people_save_path).mkdir(parents=True, exist_ok=True)\n",
    "Path(labels_save_path).mkdir(parents=True, exist_ok=True)\n",
    "\n",
    "for img in tqdm.tqdm(glob.glob(people_img_path + \"*\")):\n",
    "\n",
    "    image = cv2.imread(img)\n",
    "    \n",
    "    height, width, ch = image.shape\n",
    "    \n",
    "    filename = os.path.splitext(os.path.basename(img))[0]\n",
    "    \n",
    "    file = open(labels_img_path + filename + \".txt\", \"r\")\n",
    "    markup = []\n",
    "    for line in file.readlines():\n",
    "        markup.append(yolo2bb(line, width, height))\n",
    "    \n",
    "    bboxes = [x[1:] for x in markup]\n",
    "    category_ids = [int(x[0]) for x in markup]\n",
    "    category_id_to_name = {0: 'person'}\n",
    "    \n",
    "    transform = A.Compose(\n",
    "        [\n",
    "        A.HorizontalFlip(p=0.0),\n",
    "        A.VerticalFlip(p=0.0),\n",
    "        A.ShiftScaleRotate(p=1.0),\n",
    "        A.RandomBrightnessContrast(p=0.0),\n",
    "        A.CLAHE(clip_limit=4.0, tile_grid_size=(8, 8), always_apply=False, p=0.0)\n",
    "        ],\n",
    "        bbox_params=A.BboxParams(format='pascal_voc', label_fields=['category_ids']),\n",
    "    )\n",
    "    \n",
    "    transformed = transform(image=image, bboxes=bboxes, category_ids=category_ids)\n",
    "    # visualize(\n",
    "    #     transformed['image'],\n",
    "    #     transformed['bboxes'],\n",
    "    #     transformed['category_ids'],\n",
    "    #     category_id_to_name,\n",
    "    # )\n",
    "    \n",
    "    variant = \"SSR\"\n",
    "    \n",
    "    mkp2file = []\n",
    "    for bbox in transformed['bboxes']:\n",
    "        mkp2file.append(bb2yolo(bbox, width, height))\n",
    "        \n",
    "    save_name = f'{filename}_{variant}'\n",
    "    with open(f'{labels_save_path}{save_name}.txt', \"w\") as f:\n",
    "        for mkp in mkp2file:\n",
    "            mkp = [str(x) for x in mkp]\n",
    "            f.write(\"0 \" + \" \".join(mkp) + \"\\n\")\n",
    "            \n",
    "    cv2.imwrite(f'{people_save_path}{save_name}.jpg', transformed['image'])\n",
    "    "
   ]
  }
 ],
 "metadata": {
  "kernelspec": {
   "display_name": "Python 3 (ipykernel)",
   "language": "python",
   "name": "python3"
  },
  "language_info": {
   "codemirror_mode": {
    "name": "ipython",
    "version": 3
   },
   "file_extension": ".py",
   "mimetype": "text/x-python",
   "name": "python",
   "nbconvert_exporter": "python",
   "pygments_lexer": "ipython3",
   "version": "3.8.13"
  }
 },
 "nbformat": 4,
 "nbformat_minor": 5
}
